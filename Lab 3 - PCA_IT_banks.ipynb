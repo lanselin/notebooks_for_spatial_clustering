{
 "cells": [
  {
   "cell_type": "markdown",
   "id": "d0fa5561",
   "metadata": {},
   "source": [
    "# Lab 3 - Principal Component Analysis"
   ]
  },
  {
   "cell_type": "markdown",
   "id": "63fe6ef3",
   "metadata": {},
   "source": [
    "This notebook introduces the Principal Component Analysis, its visualization and spatial analysis.\n",
    "\n",
    "It is part of the Spatial Cluster Analysis course taught at the University of Chicago in the Winter Quarter of 2025.\n",
    "\n",
    "Prepared by: Luc Anselin (anselin@uchicago.edu) and Pedro Amaral (pedroamaral@uchicago.edu)"
   ]
  },
  {
   "cell_type": "markdown",
   "id": "06c7b3cb",
   "metadata": {},
   "source": [
    "## Preliminaries\n",
    "We will begin this exercise reviewing Principal Component Analysis (PCA), a core method of both multivariate statistics and machine learning used for dimension reduction. Dimension reduction is particularly relevant in situations where many variables are available that are highly intercorrelated. In essence, the original variables are replaced by a smaller number of proxies that represent them well in terms of their statistical properties."
   ]
  },
  {
   "cell_type": "markdown",
   "id": "d76e4c1e",
   "metadata": {},
   "source": [
    "### Required packages"
   ]
  },
  {
   "cell_type": "markdown",
   "id": "5be87c72",
   "metadata": {},
   "source": [
    "The conda enviroment used for this exercise was created from a yml file with the same specification as in the previous notebooks:"
   ]
  },
  {
   "cell_type": "raw",
   "id": "86259abc",
   "metadata": {},
   "source": [
    "name: sp_clusters\n",
    "channels:\n",
    "  - conda-forge\n",
    "  - defaults\n",
    "dependencies:\n",
    "  - python=3.12\n",
    "  - numpy \n",
    "  - nb_conda\n",
    "  - notebook\n",
    "  - geopandas\n",
    "  - scikit-learn\n",
    "  - matplotlib"
   ]
  },
  {
   "cell_type": "markdown",
   "id": "59b325a0",
   "metadata": {},
   "source": [
    "In addition to these packages, in order to achieve our goal of spatializing the Principal Component Analysis, we will also need **pygeoda**, a python library for spatial data analysis developed by Xun Li and Luc Anselin. For more information on the library, please check https://geodacenter.github.io/pygeoda/index.html . As in the previous notebook, if not already installed, the library can be installed running `pip install pygeoda` from your terminal or notebook. Make sure you have the latest version with `pip install -U pygeoda`."
   ]
  },
  {
   "cell_type": "code",
   "execution_count": 1,
   "id": "e49b893f",
   "metadata": {},
   "outputs": [],
   "source": [
    "import geopandas as gpd\n",
    "import pandas as pd\n",
    "import numpy as np\n",
    "import matplotlib.pyplot as plt\n",
    "import matplotlib.lines as pltlines\n",
    "from sklearn.preprocessing import StandardScaler\n",
    "from sklearn.decomposition import PCA\n",
    "import pygeoda"
   ]
  },
  {
   "cell_type": "markdown",
   "id": "737ad673",
   "metadata": {},
   "source": [
    "### Load data"
   ]
  },
  {
   "cell_type": "markdown",
   "id": "51281568",
   "metadata": {},
   "source": [
    "For this exercise, we will use a data set on Italy Community Banks from Algeri et al (2022). This is also a GeoDa sample data set. Detailed source and information available at https://geodacenter.github.io/data-and-lab/Italy-Community-Banks/\n",
    "\n",
    "The following files will be used:\n",
    "- **italy_banks.shp,shx,dbf,prj**: shape file (four files) for 261 points in UTM zone 32, no Sardinia or Elba \n",
    "\n",
    "We follow the usual practice of setting a path (if needed), reading the data from the Italian banks shape file and a quick check of its contents (`head`)."
   ]
  },
  {
   "cell_type": "code",
   "execution_count": 2,
   "id": "a2bd865b",
   "metadata": {},
   "outputs": [
    {
     "name": "stdout",
     "output_type": "stream",
     "text": [
      "(261, 102)\n"
     ]
    },
    {
     "data": {
      "text/html": [
       "<div>\n",
       "<style scoped>\n",
       "    .dataframe tbody tr th:only-of-type {\n",
       "        vertical-align: middle;\n",
       "    }\n",
       "\n",
       "    .dataframe tbody tr th {\n",
       "        vertical-align: top;\n",
       "    }\n",
       "\n",
       "    .dataframe thead th {\n",
       "        text-align: right;\n",
       "    }\n",
       "</style>\n",
       "<table border=\"1\" class=\"dataframe\">\n",
       "  <thead>\n",
       "    <tr style=\"text-align: right;\">\n",
       "      <th></th>\n",
       "      <th>idd</th>\n",
       "      <th>BankName</th>\n",
       "      <th>City</th>\n",
       "      <th>latitud</th>\n",
       "      <th>longitud</th>\n",
       "      <th>COORD_X</th>\n",
       "      <th>XKM</th>\n",
       "      <th>COORD_Y</th>\n",
       "      <th>YKM</th>\n",
       "      <th>ID</th>\n",
       "      <th>...</th>\n",
       "      <th>EXPE_16</th>\n",
       "      <th>EXPE_17</th>\n",
       "      <th>SERV_11</th>\n",
       "      <th>SERV_12</th>\n",
       "      <th>SERV_13</th>\n",
       "      <th>SERV_14</th>\n",
       "      <th>SERV_15</th>\n",
       "      <th>SERV_16</th>\n",
       "      <th>SERV_17</th>\n",
       "      <th>geometry</th>\n",
       "    </tr>\n",
       "  </thead>\n",
       "  <tbody>\n",
       "    <tr>\n",
       "      <th>0</th>\n",
       "      <td>1.0</td>\n",
       "      <td>Banca di Andria di Credito Cooperativo SocietÃ...</td>\n",
       "      <td>ANDRIA</td>\n",
       "      <td>41.226694</td>\n",
       "      <td>16.302685</td>\n",
       "      <td>1.112303e+06</td>\n",
       "      <td>1112.303366</td>\n",
       "      <td>4.589794e+06</td>\n",
       "      <td>4589.793823</td>\n",
       "      <td>1.0</td>\n",
       "      <td>...</td>\n",
       "      <td>0.027966</td>\n",
       "      <td>0.025114</td>\n",
       "      <td>0.793877</td>\n",
       "      <td>0.775691</td>\n",
       "      <td>0.745046</td>\n",
       "      <td>0.630469</td>\n",
       "      <td>0.611941</td>\n",
       "      <td>0.640208</td>\n",
       "      <td>0.666425</td>\n",
       "      <td>POINT (1112303.366 4589793.823)</td>\n",
       "    </tr>\n",
       "    <tr>\n",
       "      <th>1</th>\n",
       "      <td>8.0</td>\n",
       "      <td>Banca di Credito Cooperativo di Napoli-BCC di ...</td>\n",
       "      <td>NAPLES</td>\n",
       "      <td>40.841020</td>\n",
       "      <td>14.250822</td>\n",
       "      <td>9.427720e+05</td>\n",
       "      <td>942.771983</td>\n",
       "      <td>4.534476e+06</td>\n",
       "      <td>4534.475758</td>\n",
       "      <td>8.0</td>\n",
       "      <td>...</td>\n",
       "      <td>0.023624</td>\n",
       "      <td>0.018840</td>\n",
       "      <td>0.770019</td>\n",
       "      <td>0.562623</td>\n",
       "      <td>0.540712</td>\n",
       "      <td>0.522125</td>\n",
       "      <td>0.601549</td>\n",
       "      <td>0.502599</td>\n",
       "      <td>0.625220</td>\n",
       "      <td>POINT (942771.983 4534475.758)</td>\n",
       "    </tr>\n",
       "    <tr>\n",
       "      <th>2</th>\n",
       "      <td>9.0</td>\n",
       "      <td>Banca Adria Credito Cooperativo del Delta s.c....</td>\n",
       "      <td>ADRIA</td>\n",
       "      <td>45.052882</td>\n",
       "      <td>12.056720</td>\n",
       "      <td>7.407057e+05</td>\n",
       "      <td>740.705695</td>\n",
       "      <td>4.993464e+06</td>\n",
       "      <td>4993.464408</td>\n",
       "      <td>9.0</td>\n",
       "      <td>...</td>\n",
       "      <td>0.013770</td>\n",
       "      <td>0.012745</td>\n",
       "      <td>0.790542</td>\n",
       "      <td>0.626628</td>\n",
       "      <td>0.515733</td>\n",
       "      <td>0.358735</td>\n",
       "      <td>0.483700</td>\n",
       "      <td>0.567946</td>\n",
       "      <td>0.608880</td>\n",
       "      <td>POINT (740705.695 4993464.408)</td>\n",
       "    </tr>\n",
       "  </tbody>\n",
       "</table>\n",
       "<p>3 rows × 102 columns</p>\n",
       "</div>"
      ],
      "text/plain": [
       "   idd                                           BankName    City    latitud  \\\n",
       "0  1.0  Banca di Andria di Credito Cooperativo SocietÃ...  ANDRIA  41.226694   \n",
       "1  8.0  Banca di Credito Cooperativo di Napoli-BCC di ...  NAPLES  40.841020   \n",
       "2  9.0  Banca Adria Credito Cooperativo del Delta s.c....   ADRIA  45.052882   \n",
       "\n",
       "    longitud       COORD_X          XKM       COORD_Y          YKM   ID  ...  \\\n",
       "0  16.302685  1.112303e+06  1112.303366  4.589794e+06  4589.793823  1.0  ...   \n",
       "1  14.250822  9.427720e+05   942.771983  4.534476e+06  4534.475758  8.0  ...   \n",
       "2  12.056720  7.407057e+05   740.705695  4.993464e+06  4993.464408  9.0  ...   \n",
       "\n",
       "    EXPE_16   EXPE_17   SERV_11   SERV_12   SERV_13   SERV_14   SERV_15  \\\n",
       "0  0.027966  0.025114  0.793877  0.775691  0.745046  0.630469  0.611941   \n",
       "1  0.023624  0.018840  0.770019  0.562623  0.540712  0.522125  0.601549   \n",
       "2  0.013770  0.012745  0.790542  0.626628  0.515733  0.358735  0.483700   \n",
       "\n",
       "    SERV_16   SERV_17                         geometry  \n",
       "0  0.640208  0.666425  POINT (1112303.366 4589793.823)  \n",
       "1  0.502599  0.625220   POINT (942771.983 4534475.758)  \n",
       "2  0.567946  0.608880   POINT (740705.695 4993464.408)  \n",
       "\n",
       "[3 rows x 102 columns]"
      ]
     },
     "execution_count": 2,
     "metadata": {},
     "output_type": "execute_result"
    }
   ],
   "source": [
    "# Setting working folder:\n",
    "#path = \"/your/path/to/data/\"\n",
    "path = \"\"\n",
    "\n",
    "# Load the Guerry Moral Statistics data:\n",
    "dfs = gpd.read_file(path+\"italy_banks/italy_banks.shp\")\n",
    "print(dfs.shape)\n",
    "dfs.head(3)"
   ]
  },
  {
   "cell_type": "markdown",
   "id": "4024a438",
   "metadata": {},
   "source": [
    "#### Selecting variables and checking their correlation"
   ]
  },
  {
   "attachments": {},
   "cell_type": "markdown",
   "id": "c63b04c2-f618-47f4-94fa-a87e77adce0e",
   "metadata": {},
   "source": [
    "We start with a computation of the pairwise correlations. Assessing the correlation is useful as the greater the correlation between the original variables, the more efficient will be the dimension reduction. Following Chapter 11 of Anselin (2024) (https://lanselin.github.io/introbook_vol2/CHPCA.html), we select the following variables for 2013 from the Italian banks sample data set.\n",
    "\n",
    "List of variables:\n",
    "| Column Name  | Description                                                                             |\n",
    "|--------------|-----------------------------------------------------------------------------------------|\n",
    "| CAPRAT13     | Ratio of capital over risk-weighted assets                                              |\n",
    "| Z_13         | Z-score of return on assets (ROA) + leverage over the standard deviation of ROA         |\n",
    "| LIQASS_13    | Ratio of liquid assets over total assets                                                |\n",
    "| NPL_13       | Ratio of non-performing loans over total loans                                          |\n",
    "| LLP_13       | Ratio of loan loss provision over customer loans                                        |\n",
    "| INTR_13      | Ratio of interest expense over total funds                                              |\n",
    "| DEPO_13      | Ratio of total deposits over total assets                                               |\n",
    "| EQLN_13      | Ratio of total equity over customer loans                                               |\n",
    "| SERV_13      | Ratio of net interest income over total operating revenues                              |\n",
    "| EXPE_13      | Ratio of operating expenses over total assets                                           |\n",
    "\n",
    "The correlations are computed by applying the `corr` method to the subset of the data frame that contains the selected variables. The results are rounded to two decimals."
   ]
  },
  {
   "cell_type": "code",
   "execution_count": 3,
   "id": "0d90ed91",
   "metadata": {},
   "outputs": [],
   "source": [
    "varlist = ['CAPRAT13', 'Z_13', 'LIQASS_13', 'NPL_13', 'LLP_13', \n",
    "                'INTR_13', 'DEPO_13', 'EQLN_13', 'EXPE_13', 'SERV_13']"
   ]
  },
  {
   "cell_type": "code",
   "execution_count": 4,
   "id": "21ec3a2c",
   "metadata": {},
   "outputs": [
    {
     "data": {
      "text/html": [
       "<div>\n",
       "<style scoped>\n",
       "    .dataframe tbody tr th:only-of-type {\n",
       "        vertical-align: middle;\n",
       "    }\n",
       "\n",
       "    .dataframe tbody tr th {\n",
       "        vertical-align: top;\n",
       "    }\n",
       "\n",
       "    .dataframe thead th {\n",
       "        text-align: right;\n",
       "    }\n",
       "</style>\n",
       "<table border=\"1\" class=\"dataframe\">\n",
       "  <thead>\n",
       "    <tr style=\"text-align: right;\">\n",
       "      <th></th>\n",
       "      <th>CAPRAT13</th>\n",
       "      <th>Z_13</th>\n",
       "      <th>LIQASS_13</th>\n",
       "      <th>NPL_13</th>\n",
       "      <th>LLP_13</th>\n",
       "      <th>INTR_13</th>\n",
       "      <th>DEPO_13</th>\n",
       "      <th>EQLN_13</th>\n",
       "      <th>EXPE_13</th>\n",
       "      <th>SERV_13</th>\n",
       "    </tr>\n",
       "  </thead>\n",
       "  <tbody>\n",
       "    <tr>\n",
       "      <th>CAPRAT13</th>\n",
       "      <td>1.00</td>\n",
       "      <td>-0.03</td>\n",
       "      <td>0.21</td>\n",
       "      <td>-0.08</td>\n",
       "      <td>-0.10</td>\n",
       "      <td>-0.39</td>\n",
       "      <td>0.18</td>\n",
       "      <td>0.87</td>\n",
       "      <td>0.14</td>\n",
       "      <td>0.32</td>\n",
       "    </tr>\n",
       "    <tr>\n",
       "      <th>Z_13</th>\n",
       "      <td>-0.03</td>\n",
       "      <td>1.00</td>\n",
       "      <td>-0.08</td>\n",
       "      <td>-0.28</td>\n",
       "      <td>-0.16</td>\n",
       "      <td>-0.02</td>\n",
       "      <td>-0.15</td>\n",
       "      <td>-0.02</td>\n",
       "      <td>-0.14</td>\n",
       "      <td>-0.04</td>\n",
       "    </tr>\n",
       "    <tr>\n",
       "      <th>LIQASS_13</th>\n",
       "      <td>0.21</td>\n",
       "      <td>-0.08</td>\n",
       "      <td>1.00</td>\n",
       "      <td>-0.00</td>\n",
       "      <td>-0.05</td>\n",
       "      <td>-0.14</td>\n",
       "      <td>0.23</td>\n",
       "      <td>0.09</td>\n",
       "      <td>0.18</td>\n",
       "      <td>0.01</td>\n",
       "    </tr>\n",
       "    <tr>\n",
       "      <th>NPL_13</th>\n",
       "      <td>-0.08</td>\n",
       "      <td>-0.28</td>\n",
       "      <td>-0.00</td>\n",
       "      <td>1.00</td>\n",
       "      <td>0.64</td>\n",
       "      <td>0.33</td>\n",
       "      <td>-0.09</td>\n",
       "      <td>-0.10</td>\n",
       "      <td>0.15</td>\n",
       "      <td>-0.20</td>\n",
       "    </tr>\n",
       "    <tr>\n",
       "      <th>LLP_13</th>\n",
       "      <td>-0.10</td>\n",
       "      <td>-0.16</td>\n",
       "      <td>-0.05</td>\n",
       "      <td>0.64</td>\n",
       "      <td>1.00</td>\n",
       "      <td>0.41</td>\n",
       "      <td>-0.19</td>\n",
       "      <td>-0.14</td>\n",
       "      <td>-0.04</td>\n",
       "      <td>-0.39</td>\n",
       "    </tr>\n",
       "    <tr>\n",
       "      <th>INTR_13</th>\n",
       "      <td>-0.39</td>\n",
       "      <td>-0.02</td>\n",
       "      <td>-0.14</td>\n",
       "      <td>0.33</td>\n",
       "      <td>0.41</td>\n",
       "      <td>1.00</td>\n",
       "      <td>-0.43</td>\n",
       "      <td>-0.48</td>\n",
       "      <td>-0.18</td>\n",
       "      <td>-0.40</td>\n",
       "    </tr>\n",
       "    <tr>\n",
       "      <th>DEPO_13</th>\n",
       "      <td>0.18</td>\n",
       "      <td>-0.15</td>\n",
       "      <td>0.23</td>\n",
       "      <td>-0.09</td>\n",
       "      <td>-0.19</td>\n",
       "      <td>-0.43</td>\n",
       "      <td>1.00</td>\n",
       "      <td>0.18</td>\n",
       "      <td>0.16</td>\n",
       "      <td>0.17</td>\n",
       "    </tr>\n",
       "    <tr>\n",
       "      <th>EQLN_13</th>\n",
       "      <td>0.87</td>\n",
       "      <td>-0.02</td>\n",
       "      <td>0.09</td>\n",
       "      <td>-0.10</td>\n",
       "      <td>-0.14</td>\n",
       "      <td>-0.48</td>\n",
       "      <td>0.18</td>\n",
       "      <td>1.00</td>\n",
       "      <td>0.12</td>\n",
       "      <td>0.39</td>\n",
       "    </tr>\n",
       "    <tr>\n",
       "      <th>EXPE_13</th>\n",
       "      <td>0.14</td>\n",
       "      <td>-0.14</td>\n",
       "      <td>0.18</td>\n",
       "      <td>0.15</td>\n",
       "      <td>-0.04</td>\n",
       "      <td>-0.18</td>\n",
       "      <td>0.16</td>\n",
       "      <td>0.12</td>\n",
       "      <td>1.00</td>\n",
       "      <td>0.07</td>\n",
       "    </tr>\n",
       "    <tr>\n",
       "      <th>SERV_13</th>\n",
       "      <td>0.32</td>\n",
       "      <td>-0.04</td>\n",
       "      <td>0.01</td>\n",
       "      <td>-0.20</td>\n",
       "      <td>-0.39</td>\n",
       "      <td>-0.40</td>\n",
       "      <td>0.17</td>\n",
       "      <td>0.39</td>\n",
       "      <td>0.07</td>\n",
       "      <td>1.00</td>\n",
       "    </tr>\n",
       "  </tbody>\n",
       "</table>\n",
       "</div>"
      ],
      "text/plain": [
       "           CAPRAT13  Z_13  LIQASS_13  NPL_13  LLP_13  INTR_13  DEPO_13  \\\n",
       "CAPRAT13       1.00 -0.03       0.21   -0.08   -0.10    -0.39     0.18   \n",
       "Z_13          -0.03  1.00      -0.08   -0.28   -0.16    -0.02    -0.15   \n",
       "LIQASS_13      0.21 -0.08       1.00   -0.00   -0.05    -0.14     0.23   \n",
       "NPL_13        -0.08 -0.28      -0.00    1.00    0.64     0.33    -0.09   \n",
       "LLP_13        -0.10 -0.16      -0.05    0.64    1.00     0.41    -0.19   \n",
       "INTR_13       -0.39 -0.02      -0.14    0.33    0.41     1.00    -0.43   \n",
       "DEPO_13        0.18 -0.15       0.23   -0.09   -0.19    -0.43     1.00   \n",
       "EQLN_13        0.87 -0.02       0.09   -0.10   -0.14    -0.48     0.18   \n",
       "EXPE_13        0.14 -0.14       0.18    0.15   -0.04    -0.18     0.16   \n",
       "SERV_13        0.32 -0.04       0.01   -0.20   -0.39    -0.40     0.17   \n",
       "\n",
       "           EQLN_13  EXPE_13  SERV_13  \n",
       "CAPRAT13      0.87     0.14     0.32  \n",
       "Z_13         -0.02    -0.14    -0.04  \n",
       "LIQASS_13     0.09     0.18     0.01  \n",
       "NPL_13       -0.10     0.15    -0.20  \n",
       "LLP_13       -0.14    -0.04    -0.39  \n",
       "INTR_13      -0.48    -0.18    -0.40  \n",
       "DEPO_13       0.18     0.16     0.17  \n",
       "EQLN_13       1.00     0.12     0.39  \n",
       "EXPE_13       0.12     1.00     0.07  \n",
       "SERV_13       0.39     0.07     1.00  "
      ]
     },
     "execution_count": 4,
     "metadata": {},
     "output_type": "execute_result"
    }
   ],
   "source": [
    "data_pca = dfs[varlist]\n",
    "\n",
    "round(data_pca.corr(), 2)"
   ]
  },
  {
   "cell_type": "markdown",
   "id": "7617a3cb",
   "metadata": {},
   "source": [
    "Note that the correlations are all rather low, which will constitute a challenge for dimension reduction."
   ]
  },
  {
   "cell_type": "markdown",
   "id": "09e5fb95",
   "metadata": {},
   "source": [
    "## Principal Components Analysis by hand"
   ]
  },
  {
   "cell_type": "markdown",
   "id": "7e7b4260",
   "metadata": {},
   "source": [
    "This section computes the PCA step-by-step, as if by hand, without using the already existing `PCA` function from `scikit-learn`. The objective is to understand what happens under the hood when computing PCA so the intuition behind its interpretation is clear. Later in this notebook, we will see the simplified version using the existing `PCA` function from `sklearn.decomposition`.\n",
    "\n",
    "The first step is to standardize the data, which is accomplished using the `StandardScaler` class in `sklearn.preprocessing`. Recall how everything in scikit-learn is a class to which specific methods are applied or from which specific attributes are extracted. The method used for standardization to a mean of zero and variance of one is `fit_transform` applied to a `StandardScaler` object.\n",
    "\n",
    "Descriptive statistics of the resulting data frame (`describe`) reveal that indeed the mean is zero and the standard deviation is one."
   ]
  },
  {
   "cell_type": "code",
   "execution_count": 10,
   "id": "68f83210",
   "metadata": {},
   "outputs": [
    {
     "data": {
      "text/html": [
       "<div>\n",
       "<style scoped>\n",
       "    .dataframe tbody tr th:only-of-type {\n",
       "        vertical-align: middle;\n",
       "    }\n",
       "\n",
       "    .dataframe tbody tr th {\n",
       "        vertical-align: top;\n",
       "    }\n",
       "\n",
       "    .dataframe thead th {\n",
       "        text-align: right;\n",
       "    }\n",
       "</style>\n",
       "<table border=\"1\" class=\"dataframe\">\n",
       "  <thead>\n",
       "    <tr style=\"text-align: right;\">\n",
       "      <th></th>\n",
       "      <th>0</th>\n",
       "      <th>1</th>\n",
       "      <th>2</th>\n",
       "      <th>3</th>\n",
       "      <th>4</th>\n",
       "      <th>5</th>\n",
       "      <th>6</th>\n",
       "      <th>7</th>\n",
       "      <th>8</th>\n",
       "      <th>9</th>\n",
       "    </tr>\n",
       "  </thead>\n",
       "  <tbody>\n",
       "    <tr>\n",
       "      <th>count</th>\n",
       "      <td>261.00</td>\n",
       "      <td>261.00</td>\n",
       "      <td>261.00</td>\n",
       "      <td>261.00</td>\n",
       "      <td>261.00</td>\n",
       "      <td>261.00</td>\n",
       "      <td>261.00</td>\n",
       "      <td>261.00</td>\n",
       "      <td>261.00</td>\n",
       "      <td>261.00</td>\n",
       "    </tr>\n",
       "    <tr>\n",
       "      <th>mean</th>\n",
       "      <td>-0.00</td>\n",
       "      <td>-0.00</td>\n",
       "      <td>-0.00</td>\n",
       "      <td>0.00</td>\n",
       "      <td>-0.00</td>\n",
       "      <td>-0.00</td>\n",
       "      <td>0.00</td>\n",
       "      <td>-0.00</td>\n",
       "      <td>-0.00</td>\n",
       "      <td>-0.00</td>\n",
       "    </tr>\n",
       "    <tr>\n",
       "      <th>std</th>\n",
       "      <td>1.00</td>\n",
       "      <td>1.00</td>\n",
       "      <td>1.00</td>\n",
       "      <td>1.00</td>\n",
       "      <td>1.00</td>\n",
       "      <td>1.00</td>\n",
       "      <td>1.00</td>\n",
       "      <td>1.00</td>\n",
       "      <td>1.00</td>\n",
       "      <td>1.00</td>\n",
       "    </tr>\n",
       "    <tr>\n",
       "      <th>min</th>\n",
       "      <td>-1.42</td>\n",
       "      <td>-0.76</td>\n",
       "      <td>-1.27</td>\n",
       "      <td>-1.94</td>\n",
       "      <td>-1.68</td>\n",
       "      <td>-2.28</td>\n",
       "      <td>-2.34</td>\n",
       "      <td>-1.33</td>\n",
       "      <td>-3.07</td>\n",
       "      <td>-2.34</td>\n",
       "    </tr>\n",
       "    <tr>\n",
       "      <th>25%</th>\n",
       "      <td>-0.64</td>\n",
       "      <td>-0.54</td>\n",
       "      <td>-0.75</td>\n",
       "      <td>-0.76</td>\n",
       "      <td>-0.69</td>\n",
       "      <td>-0.70</td>\n",
       "      <td>-0.74</td>\n",
       "      <td>-0.67</td>\n",
       "      <td>-0.66</td>\n",
       "      <td>-0.73</td>\n",
       "    </tr>\n",
       "    <tr>\n",
       "      <th>50%</th>\n",
       "      <td>-0.29</td>\n",
       "      <td>-0.29</td>\n",
       "      <td>-0.24</td>\n",
       "      <td>-0.11</td>\n",
       "      <td>-0.16</td>\n",
       "      <td>-0.04</td>\n",
       "      <td>-0.06</td>\n",
       "      <td>-0.28</td>\n",
       "      <td>-0.01</td>\n",
       "      <td>-0.10</td>\n",
       "    </tr>\n",
       "    <tr>\n",
       "      <th>75%</th>\n",
       "      <td>0.48</td>\n",
       "      <td>0.08</td>\n",
       "      <td>0.41</td>\n",
       "      <td>0.64</td>\n",
       "      <td>0.45</td>\n",
       "      <td>0.68</td>\n",
       "      <td>0.80</td>\n",
       "      <td>0.44</td>\n",
       "      <td>0.68</td>\n",
       "      <td>0.55</td>\n",
       "    </tr>\n",
       "    <tr>\n",
       "      <th>max</th>\n",
       "      <td>5.49</td>\n",
       "      <td>5.97</td>\n",
       "      <td>3.66</td>\n",
       "      <td>2.76</td>\n",
       "      <td>3.90</td>\n",
       "      <td>2.07</td>\n",
       "      <td>2.40</td>\n",
       "      <td>4.92</td>\n",
       "      <td>2.51</td>\n",
       "      <td>3.41</td>\n",
       "    </tr>\n",
       "  </tbody>\n",
       "</table>\n",
       "</div>"
      ],
      "text/plain": [
       "            0       1       2       3       4       5       6       7       8  \\\n",
       "count  261.00  261.00  261.00  261.00  261.00  261.00  261.00  261.00  261.00   \n",
       "mean    -0.00   -0.00   -0.00    0.00   -0.00   -0.00    0.00   -0.00   -0.00   \n",
       "std      1.00    1.00    1.00    1.00    1.00    1.00    1.00    1.00    1.00   \n",
       "min     -1.42   -0.76   -1.27   -1.94   -1.68   -2.28   -2.34   -1.33   -3.07   \n",
       "25%     -0.64   -0.54   -0.75   -0.76   -0.69   -0.70   -0.74   -0.67   -0.66   \n",
       "50%     -0.29   -0.29   -0.24   -0.11   -0.16   -0.04   -0.06   -0.28   -0.01   \n",
       "75%      0.48    0.08    0.41    0.64    0.45    0.68    0.80    0.44    0.68   \n",
       "max      5.49    5.97    3.66    2.76    3.90    2.07    2.40    4.92    2.51   \n",
       "\n",
       "            9  \n",
       "count  261.00  \n",
       "mean    -0.00  \n",
       "std      1.00  \n",
       "min     -2.34  \n",
       "25%     -0.73  \n",
       "50%     -0.10  \n",
       "75%      0.55  \n",
       "max      3.41  "
      ]
     },
     "execution_count": 10,
     "metadata": {},
     "output_type": "execute_result"
    }
   ],
   "source": [
    "# Standardize the data\n",
    "X = StandardScaler().fit_transform(data_pca)\n",
    "pd.DataFrame(X).describe().round(2)"
   ]
  },
  {
   "cell_type": "markdown",
   "id": "2ab4f974",
   "metadata": {},
   "source": [
    "To illustrate the PCA calculation, we will use the eigenvalue decomposition method, applied to the $p \\times p$ correlation matrix $X'X$. Note that this is the same correlation matrix as computed above using `data_pca.corr( )`."
   ]
  },
  {
   "cell_type": "code",
   "execution_count": 11,
   "id": "ae85ba4a-b83c-4944-b5fd-89941c0770f5",
   "metadata": {},
   "outputs": [
    {
     "data": {
      "text/plain": [
       "array([[ 1.  , -0.03,  0.21, -0.08, -0.1 , -0.39,  0.18,  0.87,  0.32,\n",
       "         0.14],\n",
       "       [-0.03,  1.  , -0.08, -0.28, -0.16, -0.02, -0.15, -0.02, -0.04,\n",
       "        -0.14],\n",
       "       [ 0.21, -0.08,  1.  , -0.  , -0.05, -0.14,  0.23,  0.09,  0.01,\n",
       "         0.18],\n",
       "       [-0.08, -0.28, -0.  ,  1.  ,  0.64,  0.33, -0.09, -0.1 , -0.2 ,\n",
       "         0.15],\n",
       "       [-0.1 , -0.16, -0.05,  0.64,  1.  ,  0.41, -0.19, -0.14, -0.39,\n",
       "        -0.04],\n",
       "       [-0.39, -0.02, -0.14,  0.33,  0.41,  1.  , -0.43, -0.48, -0.4 ,\n",
       "        -0.18],\n",
       "       [ 0.18, -0.15,  0.23, -0.09, -0.19, -0.43,  1.  ,  0.18,  0.17,\n",
       "         0.16],\n",
       "       [ 0.87, -0.02,  0.09, -0.1 , -0.14, -0.48,  0.18,  1.  ,  0.39,\n",
       "         0.12],\n",
       "       [ 0.32, -0.04,  0.01, -0.2 , -0.39, -0.4 ,  0.17,  0.39,  1.  ,\n",
       "         0.07],\n",
       "       [ 0.14, -0.14,  0.18,  0.15, -0.04, -0.18,  0.16,  0.12,  0.07,\n",
       "         1.  ]])"
      ]
     },
     "execution_count": 11,
     "metadata": {},
     "output_type": "execute_result"
    }
   ],
   "source": [
    "# Calculate the correlation matrix:\n",
    "# Here we are using X'X / p. Another way to do it would be simply: data_pca.corr()\n",
    "p = X.shape[0]\n",
    "C = np.dot(X.T, X) / p\n",
    "C.round(2)"
   ]
  },
  {
   "cell_type": "markdown",
   "id": "05c49ad1-8fb7-4f37-85d6-e24ab6edbb68",
   "metadata": {},
   "source": [
    "With the correlation matrix in hand, we can compute the eigenvalues and eigenvectors. The elements of the eigenvectors will be used as loadings to combine the original variables into new variables that will be our Principal Components.\n",
    "\n",
    "Note how the `linalg.eig` function returns a tuple, with two arrays. The first is a vector with the eigenvalues, the second is a $p \\times p$ matrix with the eigenvectors are columns, i.e., the first column is the eigenvector for the first eigenvalue, etc.\n",
    "\n",
    "Keep in mind that the eigenvalues will not necessarily be sorted. So we need to sort them from the greatest value to the smallest."
   ]
  },
  {
   "cell_type": "code",
   "execution_count": 12,
   "id": "ae5dd451",
   "metadata": {},
   "outputs": [
    {
     "name": "stdout",
     "output_type": "stream",
     "text": [
      "Eigenvalues [2.987 1.763 1.263 0.961 0.843 0.738 0.607 0.424 0.304 0.11 ]\n",
      "Eigenvectors [[ 0.417 -0.289  0.4    0.201  0.054  0.035  0.178 -0.218  0.021  0.677]\n",
      " [ 0.014  0.42   0.236  0.565 -0.292 -0.392 -0.452 -0.068  0.04   0.003]\n",
      " [ 0.148 -0.229 -0.39   0.639  0.203  0.507 -0.205  0.129 -0.    -0.094]\n",
      " [-0.264 -0.546  0.081 -0.106 -0.07  -0.121 -0.409  0.063  0.65   0.032]\n",
      " [-0.333 -0.453  0.222  0.094  0.124 -0.234 -0.17   0.234 -0.687 -0.004]\n",
      " [-0.454 -0.03   0.14   0.082 -0.015  0.31  -0.013 -0.807 -0.083 -0.109]\n",
      " [ 0.277 -0.133 -0.483 -0.064  0.382 -0.542 -0.164 -0.443 -0.068 -0.024]\n",
      " [ 0.438 -0.241  0.44   0.068  0.027 -0.049  0.144 -0.085  0.06  -0.719]\n",
      " [ 0.363  0.066  0.091 -0.443 -0.114  0.35  -0.676 -0.068 -0.247  0.037]\n",
      " [ 0.131 -0.321 -0.348  0.026 -0.831 -0.065  0.151 -0.112 -0.164 -0.02 ]]\n",
      "First PC factor loadings [ 0.417  0.014  0.148 -0.264 -0.333 -0.454  0.277  0.438  0.363  0.131]\n",
      "\n",
      "Component Loadings:\n"
     ]
    },
    {
     "data": {
      "text/html": [
       "<div>\n",
       "<style scoped>\n",
       "    .dataframe tbody tr th:only-of-type {\n",
       "        vertical-align: middle;\n",
       "    }\n",
       "\n",
       "    .dataframe tbody tr th {\n",
       "        vertical-align: top;\n",
       "    }\n",
       "\n",
       "    .dataframe thead th {\n",
       "        text-align: right;\n",
       "    }\n",
       "</style>\n",
       "<table border=\"1\" class=\"dataframe\">\n",
       "  <thead>\n",
       "    <tr style=\"text-align: right;\">\n",
       "      <th></th>\n",
       "      <th>0</th>\n",
       "      <th>1</th>\n",
       "      <th>2</th>\n",
       "      <th>3</th>\n",
       "      <th>4</th>\n",
       "      <th>5</th>\n",
       "      <th>6</th>\n",
       "      <th>7</th>\n",
       "      <th>8</th>\n",
       "      <th>9</th>\n",
       "    </tr>\n",
       "  </thead>\n",
       "  <tbody>\n",
       "    <tr>\n",
       "      <th>CAPRAT13</th>\n",
       "      <td>0.416651</td>\n",
       "      <td>-0.289011</td>\n",
       "      <td>0.400281</td>\n",
       "      <td>0.200754</td>\n",
       "      <td>0.054467</td>\n",
       "      <td>0.034624</td>\n",
       "      <td>0.177808</td>\n",
       "      <td>-0.218361</td>\n",
       "      <td>0.020765</td>\n",
       "      <td>0.677092</td>\n",
       "    </tr>\n",
       "    <tr>\n",
       "      <th>Z_13</th>\n",
       "      <td>0.013973</td>\n",
       "      <td>0.420044</td>\n",
       "      <td>0.235984</td>\n",
       "      <td>0.564699</td>\n",
       "      <td>-0.291502</td>\n",
       "      <td>-0.392045</td>\n",
       "      <td>-0.451626</td>\n",
       "      <td>-0.067665</td>\n",
       "      <td>0.039630</td>\n",
       "      <td>0.002815</td>\n",
       "    </tr>\n",
       "    <tr>\n",
       "      <th>LIQASS_13</th>\n",
       "      <td>0.147681</td>\n",
       "      <td>-0.229038</td>\n",
       "      <td>-0.390257</td>\n",
       "      <td>0.638757</td>\n",
       "      <td>0.202743</td>\n",
       "      <td>0.506880</td>\n",
       "      <td>-0.204524</td>\n",
       "      <td>0.129197</td>\n",
       "      <td>-0.000251</td>\n",
       "      <td>-0.094164</td>\n",
       "    </tr>\n",
       "    <tr>\n",
       "      <th>NPL_13</th>\n",
       "      <td>-0.264109</td>\n",
       "      <td>-0.546288</td>\n",
       "      <td>0.081384</td>\n",
       "      <td>-0.105872</td>\n",
       "      <td>-0.069770</td>\n",
       "      <td>-0.120596</td>\n",
       "      <td>-0.408614</td>\n",
       "      <td>0.063170</td>\n",
       "      <td>0.650065</td>\n",
       "      <td>0.032139</td>\n",
       "    </tr>\n",
       "    <tr>\n",
       "      <th>LLP_13</th>\n",
       "      <td>-0.332622</td>\n",
       "      <td>-0.452568</td>\n",
       "      <td>0.221917</td>\n",
       "      <td>0.094127</td>\n",
       "      <td>0.124286</td>\n",
       "      <td>-0.234403</td>\n",
       "      <td>-0.169731</td>\n",
       "      <td>0.234213</td>\n",
       "      <td>-0.687286</td>\n",
       "      <td>-0.004423</td>\n",
       "    </tr>\n",
       "    <tr>\n",
       "      <th>INTR_13</th>\n",
       "      <td>-0.454442</td>\n",
       "      <td>-0.030416</td>\n",
       "      <td>0.139912</td>\n",
       "      <td>0.081664</td>\n",
       "      <td>-0.015137</td>\n",
       "      <td>0.309591</td>\n",
       "      <td>-0.013168</td>\n",
       "      <td>-0.807004</td>\n",
       "      <td>-0.083059</td>\n",
       "      <td>-0.109131</td>\n",
       "    </tr>\n",
       "    <tr>\n",
       "      <th>DEPO_13</th>\n",
       "      <td>0.277034</td>\n",
       "      <td>-0.133345</td>\n",
       "      <td>-0.483049</td>\n",
       "      <td>-0.064276</td>\n",
       "      <td>0.381635</td>\n",
       "      <td>-0.541985</td>\n",
       "      <td>-0.163713</td>\n",
       "      <td>-0.443464</td>\n",
       "      <td>-0.067723</td>\n",
       "      <td>-0.023698</td>\n",
       "    </tr>\n",
       "    <tr>\n",
       "      <th>EQLN_13</th>\n",
       "      <td>0.438027</td>\n",
       "      <td>-0.240695</td>\n",
       "      <td>0.440113</td>\n",
       "      <td>0.068469</td>\n",
       "      <td>0.026698</td>\n",
       "      <td>-0.048546</td>\n",
       "      <td>0.143620</td>\n",
       "      <td>-0.084699</td>\n",
       "      <td>0.059671</td>\n",
       "      <td>-0.719291</td>\n",
       "    </tr>\n",
       "    <tr>\n",
       "      <th>SERV_13</th>\n",
       "      <td>0.362998</td>\n",
       "      <td>0.066494</td>\n",
       "      <td>0.090886</td>\n",
       "      <td>-0.443382</td>\n",
       "      <td>-0.113546</td>\n",
       "      <td>0.349947</td>\n",
       "      <td>-0.675579</td>\n",
       "      <td>-0.068169</td>\n",
       "      <td>-0.247354</td>\n",
       "      <td>0.036992</td>\n",
       "    </tr>\n",
       "    <tr>\n",
       "      <th>EXPE_13</th>\n",
       "      <td>0.130787</td>\n",
       "      <td>-0.321352</td>\n",
       "      <td>-0.347914</td>\n",
       "      <td>0.025643</td>\n",
       "      <td>-0.831361</td>\n",
       "      <td>-0.065367</td>\n",
       "      <td>0.151014</td>\n",
       "      <td>-0.111648</td>\n",
       "      <td>-0.163775</td>\n",
       "      <td>-0.019992</td>\n",
       "    </tr>\n",
       "  </tbody>\n",
       "</table>\n",
       "</div>"
      ],
      "text/plain": [
       "                  0         1         2         3         4         5  \\\n",
       "CAPRAT13   0.416651 -0.289011  0.400281  0.200754  0.054467  0.034624   \n",
       "Z_13       0.013973  0.420044  0.235984  0.564699 -0.291502 -0.392045   \n",
       "LIQASS_13  0.147681 -0.229038 -0.390257  0.638757  0.202743  0.506880   \n",
       "NPL_13    -0.264109 -0.546288  0.081384 -0.105872 -0.069770 -0.120596   \n",
       "LLP_13    -0.332622 -0.452568  0.221917  0.094127  0.124286 -0.234403   \n",
       "INTR_13   -0.454442 -0.030416  0.139912  0.081664 -0.015137  0.309591   \n",
       "DEPO_13    0.277034 -0.133345 -0.483049 -0.064276  0.381635 -0.541985   \n",
       "EQLN_13    0.438027 -0.240695  0.440113  0.068469  0.026698 -0.048546   \n",
       "SERV_13    0.362998  0.066494  0.090886 -0.443382 -0.113546  0.349947   \n",
       "EXPE_13    0.130787 -0.321352 -0.347914  0.025643 -0.831361 -0.065367   \n",
       "\n",
       "                  6         7         8         9  \n",
       "CAPRAT13   0.177808 -0.218361  0.020765  0.677092  \n",
       "Z_13      -0.451626 -0.067665  0.039630  0.002815  \n",
       "LIQASS_13 -0.204524  0.129197 -0.000251 -0.094164  \n",
       "NPL_13    -0.408614  0.063170  0.650065  0.032139  \n",
       "LLP_13    -0.169731  0.234213 -0.687286 -0.004423  \n",
       "INTR_13   -0.013168 -0.807004 -0.083059 -0.109131  \n",
       "DEPO_13   -0.163713 -0.443464 -0.067723 -0.023698  \n",
       "EQLN_13    0.143620 -0.084699  0.059671 -0.719291  \n",
       "SERV_13   -0.675579 -0.068169 -0.247354  0.036992  \n",
       "EXPE_13    0.151014 -0.111648 -0.163775 -0.019992  "
      ]
     },
     "execution_count": 12,
     "metadata": {},
     "output_type": "execute_result"
    }
   ],
   "source": [
    "# Compute the eigenvalues and eigenvectors to use as loadings\n",
    "E_values, E_vectors = np.linalg.eig(C)\n",
    "\n",
    "# Sort eigenvalues and eigenvectors in descending order\n",
    "sorted_indices = np.argsort(E_values)[::-1]\n",
    "E_values = E_values[sorted_indices]\n",
    "E_vectors = E_vectors[:, sorted_indices]\n",
    "\n",
    "print('Eigenvalues',E_values.round(3))\n",
    "print('Eigenvectors',E_vectors.round(3))\n",
    "\n",
    "print('First PC factor loadings',E_vectors[:,0].round(3))\n",
    "\n",
    "# Combine eigenvectors into a data frame\n",
    "L = E_vectors\n",
    "print('\\nComponent Loadings:')\n",
    "pd.DataFrame(L, index=data_pca.columns)"
   ]
  },
  {
   "cell_type": "markdown",
   "id": "38414daf",
   "metadata": {},
   "source": [
    "An important property of the principal components is how much of the original variance each explains. Since the ten variables are standardized the total variance equals 10. We verify that this is also the sum of the eigenvalues of $X'X$. Then we compute the share of each principal component."
   ]
  },
  {
   "cell_type": "code",
   "execution_count": 13,
   "id": "48ac5791-16fe-4ee7-8640-03c98cb8a329",
   "metadata": {},
   "outputs": [
    {
     "name": "stdout",
     "output_type": "stream",
     "text": [
      "Total variance 10.000000000000004\n",
      "Share of total variance in each component:\n",
      " [0.2986745  0.17631768 0.12628661 0.09612748 0.08433105 0.07383474\n",
      " 0.06074807 0.04237308 0.03035229 0.01095451]\n"
     ]
    }
   ],
   "source": [
    "# Variance decomposition\n",
    "totvar = np.sum(E_values)\n",
    "print('Total variance',totvar)\n",
    "\n",
    "# Variance share\n",
    "varshare = E_values / totvar\n",
    "print('Share of total variance in each component:\\n', varshare)"
   ]
  },
  {
   "cell_type": "markdown",
   "id": "249f0c78-aeac-49f3-aab1-0da5d7e754e3",
   "metadata": {},
   "source": [
    "The loadings show us the weight of each original variable in the newly created components. They allow us to interpret and, potentially, label these new components so we can use fewer of them as replacements to our original variables, minimizing the overall variance loss. "
   ]
  },
  {
   "cell_type": "markdown",
   "id": "1e853c97-359b-48fa-b175-82f2c98075f9",
   "metadata": {},
   "source": [
    "Note that all components are centered with a mean of 0. Their variances are equal to the eigenvalue that corresponds to the eigenvector that gave them origin. It is easy to show how the total original variance was just redistributed across the newly created components. No variance is lost but reorganized so that it is concentrated in the first components. This way, discarding the last components may have a negligible effect on overall variance whilst reducing the number of dimensions of the analysis."
   ]
  },
  {
   "cell_type": "markdown",
   "id": "d59aa94e-7de1-46c0-b9ba-d2ca592eb747",
   "metadata": {},
   "source": [
    "## Principal Components Analysis - scikit-learn"
   ]
  },
  {
   "cell_type": "markdown",
   "id": "50fbda0c-01dc-4d0c-b62c-a75ea83d7fd0",
   "metadata": {},
   "source": [
    "In this section, we show the direct way to compute PCA using the existing `PCA` function from `sklearn.decomposition`. Instead of computing the spectral decomposition of the correlation matrix to return the eigenvalues and eigenvectors, `scikit-learn` uses a Singular Value Decomposition (SVD) of the original matrix of variables, in our case X. This is the same as the default method in `GeoDa`.\n",
    "\n",
    "The method yields the same results as above when the data is standardized. However, the PCA computation returns a transposed matrix of eigenvectors ($V'$), i.e., each eigenvector is a row. \n",
    "\n",
    "For more on how Spectral Decomposition and SVD can be applied to Principal Components Analysis, see Anselin (2023) - https://lanselin.github.io/introbook_vol2/matrix-algebra-review.html#matrix-decompositions"
   ]
  },
  {
   "cell_type": "code",
   "execution_count": 14,
   "id": "8a48b7af",
   "metadata": {},
   "outputs": [],
   "source": [
    "# Repeating previous steps to ensure all required steps are shown in this section.\n",
    "dfs = gpd.read_file(path+\"italy_banks/italy_banks.shp\")\n",
    "data_pca = dfs[['CAPRAT13', 'Z_13', 'LIQASS_13', 'NPL_13', 'LLP_13', 'INTR_13', 'DEPO_13', 'EQLN_13', 'SERV_13', 'EXPE_13']]\n",
    "X = StandardScaler().fit_transform(data_pca)\n",
    "\n",
    "# Perform PCA \n",
    "pca_res = PCA().fit(X)"
   ]
  },
  {
   "cell_type": "markdown",
   "id": "823cf328",
   "metadata": {},
   "source": [
    "In the usual scikit-learn terminology, `pca_res` is now an object of the class `PCA` (once we initialized using `PCA()` and applied the `fit` method), which has several important attributes:\n",
    "- `components_`: the factor loadings as an array of rows (not columns as in the example above), one for each component. So, the first row contains the loadings for the first PC, etc.\n",
    "- `explained_variance_`: the explained variance by each component. As shown above, this corresponds to the matching eigenvalue of $X'X$.\n",
    "- `explained_variance_ratio_`: the share of the total variance explained by each component\n",
    "as well as several other, more technical attributes.\n",
    "\n",
    "The actual components are found by applying `transform(X)` to the PCA result object. This yields a n by k numpy array with the observations as rows and the component scores as columns.\n",
    "\n",
    "We now list each in turn."
   ]
  },
  {
   "cell_type": "code",
   "execution_count": 15,
   "id": "b07dc2f8",
   "metadata": {},
   "outputs": [
    {
     "data": {
      "text/html": [
       "<div>\n",
       "<style scoped>\n",
       "    .dataframe tbody tr th:only-of-type {\n",
       "        vertical-align: middle;\n",
       "    }\n",
       "\n",
       "    .dataframe tbody tr th {\n",
       "        vertical-align: top;\n",
       "    }\n",
       "\n",
       "    .dataframe thead th {\n",
       "        text-align: right;\n",
       "    }\n",
       "</style>\n",
       "<table border=\"1\" class=\"dataframe\">\n",
       "  <thead>\n",
       "    <tr style=\"text-align: right;\">\n",
       "      <th></th>\n",
       "      <th>CAPRAT13</th>\n",
       "      <th>Z_13</th>\n",
       "      <th>LIQASS_13</th>\n",
       "      <th>NPL_13</th>\n",
       "      <th>LLP_13</th>\n",
       "      <th>INTR_13</th>\n",
       "      <th>DEPO_13</th>\n",
       "      <th>EQLN_13</th>\n",
       "      <th>SERV_13</th>\n",
       "      <th>EXPE_13</th>\n",
       "    </tr>\n",
       "  </thead>\n",
       "  <tbody>\n",
       "    <tr>\n",
       "      <th>1</th>\n",
       "      <td>-0.416651</td>\n",
       "      <td>-0.013973</td>\n",
       "      <td>-0.147681</td>\n",
       "      <td>0.264109</td>\n",
       "      <td>0.332622</td>\n",
       "      <td>0.454442</td>\n",
       "      <td>-0.277034</td>\n",
       "      <td>-0.438027</td>\n",
       "      <td>-0.362998</td>\n",
       "      <td>-0.130787</td>\n",
       "    </tr>\n",
       "    <tr>\n",
       "      <th>2</th>\n",
       "      <td>0.289011</td>\n",
       "      <td>-0.420044</td>\n",
       "      <td>0.229038</td>\n",
       "      <td>0.546288</td>\n",
       "      <td>0.452568</td>\n",
       "      <td>0.030416</td>\n",
       "      <td>0.133345</td>\n",
       "      <td>0.240695</td>\n",
       "      <td>-0.066494</td>\n",
       "      <td>0.321352</td>\n",
       "    </tr>\n",
       "    <tr>\n",
       "      <th>3</th>\n",
       "      <td>-0.400281</td>\n",
       "      <td>-0.235984</td>\n",
       "      <td>0.390257</td>\n",
       "      <td>-0.081384</td>\n",
       "      <td>-0.221917</td>\n",
       "      <td>-0.139912</td>\n",
       "      <td>0.483049</td>\n",
       "      <td>-0.440113</td>\n",
       "      <td>-0.090886</td>\n",
       "      <td>0.347914</td>\n",
       "    </tr>\n",
       "    <tr>\n",
       "      <th>4</th>\n",
       "      <td>0.200754</td>\n",
       "      <td>0.564699</td>\n",
       "      <td>0.638757</td>\n",
       "      <td>-0.105872</td>\n",
       "      <td>0.094127</td>\n",
       "      <td>0.081664</td>\n",
       "      <td>-0.064276</td>\n",
       "      <td>0.068469</td>\n",
       "      <td>-0.443382</td>\n",
       "      <td>0.025643</td>\n",
       "    </tr>\n",
       "    <tr>\n",
       "      <th>5</th>\n",
       "      <td>-0.054467</td>\n",
       "      <td>0.291502</td>\n",
       "      <td>-0.202743</td>\n",
       "      <td>0.069770</td>\n",
       "      <td>-0.124286</td>\n",
       "      <td>0.015137</td>\n",
       "      <td>-0.381635</td>\n",
       "      <td>-0.026698</td>\n",
       "      <td>0.113546</td>\n",
       "      <td>0.831361</td>\n",
       "    </tr>\n",
       "    <tr>\n",
       "      <th>6</th>\n",
       "      <td>-0.034624</td>\n",
       "      <td>0.392045</td>\n",
       "      <td>-0.506880</td>\n",
       "      <td>0.120596</td>\n",
       "      <td>0.234403</td>\n",
       "      <td>-0.309591</td>\n",
       "      <td>0.541985</td>\n",
       "      <td>0.048546</td>\n",
       "      <td>-0.349947</td>\n",
       "      <td>0.065367</td>\n",
       "    </tr>\n",
       "    <tr>\n",
       "      <th>7</th>\n",
       "      <td>-0.177808</td>\n",
       "      <td>0.451626</td>\n",
       "      <td>0.204524</td>\n",
       "      <td>0.408614</td>\n",
       "      <td>0.169731</td>\n",
       "      <td>0.013168</td>\n",
       "      <td>0.163713</td>\n",
       "      <td>-0.143620</td>\n",
       "      <td>0.675579</td>\n",
       "      <td>-0.151014</td>\n",
       "    </tr>\n",
       "    <tr>\n",
       "      <th>8</th>\n",
       "      <td>0.218361</td>\n",
       "      <td>0.067665</td>\n",
       "      <td>-0.129197</td>\n",
       "      <td>-0.063170</td>\n",
       "      <td>-0.234213</td>\n",
       "      <td>0.807004</td>\n",
       "      <td>0.443464</td>\n",
       "      <td>0.084699</td>\n",
       "      <td>0.068169</td>\n",
       "      <td>0.111648</td>\n",
       "    </tr>\n",
       "    <tr>\n",
       "      <th>9</th>\n",
       "      <td>-0.020765</td>\n",
       "      <td>-0.039630</td>\n",
       "      <td>0.000251</td>\n",
       "      <td>-0.650065</td>\n",
       "      <td>0.687286</td>\n",
       "      <td>0.083059</td>\n",
       "      <td>0.067723</td>\n",
       "      <td>-0.059671</td>\n",
       "      <td>0.247354</td>\n",
       "      <td>0.163775</td>\n",
       "    </tr>\n",
       "    <tr>\n",
       "      <th>10</th>\n",
       "      <td>-0.677092</td>\n",
       "      <td>-0.002815</td>\n",
       "      <td>0.094164</td>\n",
       "      <td>-0.032139</td>\n",
       "      <td>0.004423</td>\n",
       "      <td>0.109131</td>\n",
       "      <td>0.023698</td>\n",
       "      <td>0.719291</td>\n",
       "      <td>-0.036992</td>\n",
       "      <td>0.019992</td>\n",
       "    </tr>\n",
       "  </tbody>\n",
       "</table>\n",
       "</div>"
      ],
      "text/plain": [
       "    CAPRAT13      Z_13  LIQASS_13    NPL_13    LLP_13   INTR_13   DEPO_13  \\\n",
       "1  -0.416651 -0.013973  -0.147681  0.264109  0.332622  0.454442 -0.277034   \n",
       "2   0.289011 -0.420044   0.229038  0.546288  0.452568  0.030416  0.133345   \n",
       "3  -0.400281 -0.235984   0.390257 -0.081384 -0.221917 -0.139912  0.483049   \n",
       "4   0.200754  0.564699   0.638757 -0.105872  0.094127  0.081664 -0.064276   \n",
       "5  -0.054467  0.291502  -0.202743  0.069770 -0.124286  0.015137 -0.381635   \n",
       "6  -0.034624  0.392045  -0.506880  0.120596  0.234403 -0.309591  0.541985   \n",
       "7  -0.177808  0.451626   0.204524  0.408614  0.169731  0.013168  0.163713   \n",
       "8   0.218361  0.067665  -0.129197 -0.063170 -0.234213  0.807004  0.443464   \n",
       "9  -0.020765 -0.039630   0.000251 -0.650065  0.687286  0.083059  0.067723   \n",
       "10 -0.677092 -0.002815   0.094164 -0.032139  0.004423  0.109131  0.023698   \n",
       "\n",
       "     EQLN_13   SERV_13   EXPE_13  \n",
       "1  -0.438027 -0.362998 -0.130787  \n",
       "2   0.240695 -0.066494  0.321352  \n",
       "3  -0.440113 -0.090886  0.347914  \n",
       "4   0.068469 -0.443382  0.025643  \n",
       "5  -0.026698  0.113546  0.831361  \n",
       "6   0.048546 -0.349947  0.065367  \n",
       "7  -0.143620  0.675579 -0.151014  \n",
       "8   0.084699  0.068169  0.111648  \n",
       "9  -0.059671  0.247354  0.163775  \n",
       "10  0.719291 -0.036992  0.019992  "
      ]
     },
     "execution_count": 15,
     "metadata": {},
     "output_type": "execute_result"
    }
   ],
   "source": [
    "# Component loadings, row by row\n",
    "pd.DataFrame(pca_res.components_, index=range(1,pca_res.components_.shape[0]+1), \n",
    "             columns=data_pca.columns)\n"
   ]
  },
  {
   "cell_type": "code",
   "execution_count": 17,
   "id": "390f8839",
   "metadata": {},
   "outputs": [
    {
     "data": {
      "text/plain": [
       "array([2.99823249, 1.76995822, 1.26772324, 0.96497201, 0.84655397,\n",
       "       0.74118715, 0.60981717, 0.42536058, 0.30469032, 0.10996639])"
      ]
     },
     "execution_count": 17,
     "metadata": {},
     "output_type": "execute_result"
    }
   ],
   "source": [
    "# Explained variance of each component\n",
    "pca_res.explained_variance_"
   ]
  },
  {
   "cell_type": "code",
   "execution_count": 18,
   "id": "b4c83784",
   "metadata": {},
   "outputs": [
    {
     "name": "stdout",
     "output_type": "stream",
     "text": [
      "Explained variance share: [0.2986745  0.17631768 0.12628661 0.09612748 0.08433105 0.07383474\n",
      " 0.06074807 0.04237308 0.03035229 0.01095451]\n",
      "\n",
      "Cumulative variance share: [0.2986745  0.47499218 0.60127878 0.69740626 0.78173731 0.85557205\n",
      " 0.91632012 0.9586932  0.98904549 1.        ]\n"
     ]
    }
   ],
   "source": [
    "# Explained variance share\n",
    "print(\"Explained variance share:\",pca_res.explained_variance_ratio_)\n",
    "print(\"\\nCumulative variance share:\",np.cumsum(pca_res.explained_variance_ratio_))"
   ]
  },
  {
   "cell_type": "code",
   "execution_count": 19,
   "id": "c7594708",
   "metadata": {},
   "outputs": [
    {
     "data": {
      "text/plain": [
       "array([-2.26679046, -1.17912038,  1.51954157,  2.31900576,  2.36956218])"
      ]
     },
     "execution_count": 19,
     "metadata": {},
     "output_type": "execute_result"
    }
   ],
   "source": [
    "# The actual principal components\n",
    "pcomps = pca_res.transform(X) \n",
    "pcomps[0:5,0]"
   ]
  },
  {
   "cell_type": "markdown",
   "id": "c16b62a3",
   "metadata": {},
   "source": [
    "### How many components?\n",
    "\n",
    "The choice of how many components to keep is not an easy one. There are several shortcut criteria, but they often yield different recommendations.\n",
    "For example, one would suggest to keep all the components until the explained variance is 95% of the original. In our example, that would mean keeping eight components (out of ten), which is not exactly dimension reduction.\n",
    "\n",
    "The Kaiser criterion suggests keeping the principal components with eigenvalues larger than one. This would yield three components, a more reasonable reduction.\n",
    "\n",
    "A graphical method to assess the number of components is the so-called *scree plot*, a plot of explained variance against the number of components. The goal is to identify a *kink* in this plot, which then suggests the proper number of components. In practice, this is not as easy as it sounds, as the example below illustrates."
   ]
  },
  {
   "cell_type": "markdown",
   "id": "de5f0b0a",
   "metadata": {},
   "source": [
    "We implement a scree plot by means of a simple matplotlib line plot with the explained variance ratio (`explained_variance_ratio_`) on the vertical axis and a simple counter on the horizontal axis. As the graph shows, it is not easy at all to identify the *kink*."
   ]
  },
  {
   "cell_type": "code",
   "execution_count": 20,
   "id": "d3d1b25c-a7a5-43ca-beb0-fdf7d71cf712",
   "metadata": {},
   "outputs": [
    {
     "data": {
      "image/png": "[encoded data removed]",
      "text/plain": [
       "<Figure size 800x600 with 1 Axes>"
      ]
     },
     "metadata": {},
     "output_type": "display_data"
    }
   ],
   "source": [
    "#Screeplot of variance\n",
    "plt.figure(figsize=(8, 6))\n",
    "plt.plot(range(1, len(pca_res.explained_variance_ratio_) + 1), pca_res.explained_variance_ratio_, marker='o', linestyle='-')\n",
    "plt.title('Scree Plot')\n",
    "plt.xlabel('Principal Component')\n",
    "plt.ylabel('Explained Variance Ratio')\n",
    "plt.xticks(np.arange(1, len(pca_res.explained_variance_ratio_) + 1))\n",
    "plt.grid(True)\n",
    "plt.show()"
   ]
  },
  {
   "cell_type": "markdown",
   "id": "41a11490",
   "metadata": {},
   "source": [
    "### Visualizing principal components"
   ]
  },
  {
   "cell_type": "markdown",
   "id": "4d8a8329-c499-4d22-962c-3b6def8fdcbe",
   "metadata": {},
   "source": [
    "A classic visualization of the relative contribution of the original variables to the principal components is a so-called *biplot*. For any pair of components, it consists of a scatter plot of the component values, with superimposed line plots that show the relative contribution of each variable to each of the components.\n",
    "\n",
    "For example, a line plot that points to the upper-right quadrant in the scatter plot (e.g., `LLP_13`) would indicate that the variable in question contributes positively to both components (note that the results may yield different signs for the loadings, depending on the method used). On the other hand, a line plot that points to the upper-left quadrant (e.g., `CAPRAT13`) would suggest a negative contribution to the first component, but a positive contribution to the second (on the y-axis).\n",
    "\n",
    "Below, we illustrate the biplot by means of a simple function using a number of basic matplotlib plotting functions.\n",
    "\n",
    "In the biplot below, we have re-scaled the loadings by multiplying them by 4 just so they get more visible in the graph."
   ]
  },
  {
   "cell_type": "code",
   "execution_count": 21,
   "id": "ed4884ab-63f0-4840-bce9-7b35e58d0ca2",
   "metadata": {},
   "outputs": [
    {
     "data": {
      "image/png": "[encoded data removed]",
      "text/plain": [
       "<Figure size 800x800 with 1 Axes>"
      ]
     },
     "metadata": {},
     "output_type": "display_data"
    }
   ],
   "source": [
    "# Biplot\n",
    "def biplot(score, coeff, labels=None):\n",
    "    plt.figure(figsize=(8, 8))\n",
    "    plt.scatter(score[:, 0], score[:, 1], alpha=0.5)\n",
    "    for i in range(len(coeff)):\n",
    "        plt.arrow(0, 0, coeff[i, 0], coeff[i, 1], color='r', alpha=0.5)\n",
    "        if labels is None:\n",
    "            plt.text(coeff[i, 0]*1.15, coeff[i, 1]*1.15, \"Var\" + str(i+1), color='g', ha='center', va='center')\n",
    "        else:\n",
    "            plt.text(coeff[i, 0]*1.15, coeff[i, 1]*1.15, labels[i], color='g', ha='center', va='center')\n",
    "    plt.xlabel(\"PC1\")\n",
    "    plt.ylabel(\"PC2\")\n",
    "    plt.grid()\n",
    "    plt.show()\n",
    "\n",
    "biplot(pca_res.transform(X)[:, :2], pca_res.components_.T*4, labels=data_pca.columns)"
   ]
  },
  {
   "cell_type": "markdown",
   "id": "89ce8bf8",
   "metadata": {},
   "source": [
    "Other visualizations, such as the ones illustrated in the Spatial Clustering book can be pursued as well, including a parallel coordinate plot showing the contributions of different variables to a component. This is not further pursued here."
   ]
  },
  {
   "cell_type": "markdown",
   "id": "5155da57",
   "metadata": {},
   "source": [
    "### Spatializing the PCA"
   ]
  },
  {
   "cell_type": "markdown",
   "id": "57cbf8b8",
   "metadata": {},
   "source": [
    "As described in the Spatial Clustering book, there are several ways in which the results of a principal components calculation can be visualized. The basic idea is that a component (typically the first principal component) summarizes several underlying variables and therefore can be used as a proxy for multivariate relationships. In essence then, a univariate spatial visualization of a principal component provides insight into multivariate spatial patterns.\n",
    "\n",
    "All the usual visualizations can be applied, such as various thematic maps and cluster maps from indicators of local spatial autocorrelation. Care must be taken in interpreting these results, since the sign of the loadings is indeterminate (so high can become low and vice versa). In addition, one can assess the similarity in results of a full multivariate approach, such as a multivariate local Geary or a neighbor match map and the univariate results for the principal component. This is not further pursued here.\n",
    "\n",
    "We close the notebook with an illustration of a box map and a local moran cluster map for the first principal component.\n",
    "\n",
    "The strongest loadings (absolute values > 0.3) in PC1 are:\n",
    "\n",
    "    Negative:\n",
    "        CAPRAT13 (-0.42) → Capital adequacy\n",
    "        EQLN_13 (-0.44) → Equity over loans\n",
    "        SERV_13 (-0.36) → Net interest income over revenues\n",
    "    Positive:\n",
    "        LLP_13 (0.33) → Loan loss provisions\n",
    "        INTR_13 (0.45) → Interest expenses\n",
    "\n",
    "Therefore, PC1 contrasts capital adequacy and profitability (negative loadings on CAPRAT13, EQLN_13, and SERV_13) with credit risk and funding costs (positive loadings on LLP_13 and INTR_13). Low PC1 values represent banks with higher capital adequacy, more equity, and stronger deposit bases. High PC1 values represent banks with higher credit risk, loan loss provisions, and funding costs, indicating capital inadequacy and financial strain. An appropriate label for PC1 could be \"Credit Risk & Funding Costs vs. Capital Adequacy\"."
   ]
  },
  {
   "cell_type": "markdown",
   "id": "2eee0cda",
   "metadata": {},
   "source": [
    "#### Box map"
   ]
  },
  {
   "cell_type": "code",
   "execution_count": 22,
   "id": "9c25d37b-9b42-468b-b188-cd6c12645819",
   "metadata": {},
   "outputs": [
    {
     "data": {
      "image/png": "[encoded data removed]",
      "text/plain": [
       "<Figure size 640x480 with 1 Axes>"
      ]
     },
     "metadata": {},
     "output_type": "display_data"
    }
   ],
   "source": [
    "# Box map of Component 1:\n",
    "dfs['Comp.1'] = pca_res.transform(X)[:, 0] \n",
    "\n",
    "ax = dfs.plot(\n",
    "column = 'Comp.1',\n",
    "scheme = \"BoxPlot\",\n",
    "k = 6,\n",
    "cmap='RdBu_r', \n",
    "linewidth=0.5, \n",
    "edgecolor='0.8',\n",
    "legend = True,\n",
    "legend_kwds={\"loc\":\"center left\",\"bbox_to_anchor\":(1,0.5), \"title\": \"Component 1\"}\n",
    ")\n",
    "ax.set_title(\"PC1 - Credit Risk & Funding Costs vs. Capital Adequacy\")\n",
    "ax.set_axis_off()"
   ]
  },
  {
   "cell_type": "markdown",
   "id": "1efa7e57",
   "metadata": {},
   "source": [
    "#### Local Moran cluster map"
   ]
  },
  {
   "cell_type": "markdown",
   "id": "a5db8d5a",
   "metadata": {},
   "source": [
    "We use `pygeoda` to compute the Local Moran statistic. This requires three steps:\n",
    "- `open` the geodataframe\n",
    "- create `queen_weights` from the geodataframe\n",
    "- compute a `local_moran` object passing the weights and the variable\n",
    "  - optional arguments are `permutations` for the number of permuations (default is 999), `seed` for the random seed (default is 1234567), and `significance_cutoff` for the p-value that determines significance (default is 0.05)\n",
    "\n",
    "In our illustration, we use the first principal component with 9999 permutations and a p-value cut-off of 0.01.\n",
    "\n",
    "The resulting `lisa object` contains the statistics, `lisa_values`, associated p-values, `lisa_pvalues`, the neighbor cardinality, `lisa_num_nbrs`, the cluster classification, based on the specified p-value, `lisa_clusters`, labels, `lisa_labels`, and associated colors, `lisa_colors`."
   ]
  },
  {
   "cell_type": "code",
   "execution_count": 23,
   "id": "244ead96",
   "metadata": {},
   "outputs": [
    {
     "data": {
      "text/plain": [
       "lisa object:\n",
       "\n",
       "\tlisa_values(): [0.005296951235279858, -0.3184600483378756, 0.36298009350110205, 1.1090439865293087, 1.17108997595931, 1.0569249841311064, -1.3445446406378438, 0.055015911773549885, -0.14889762111052543, 0.29161152061474355, ...]\n",
       "\tlisa_pvalues(): [0.4801, 0.1814, 0.0859, 0.019, 0.0077, 0.0422, 0.0716, 0.0966, 0.021, 0.2121, ...]\n",
       "\tlisa_num_nbrs(): [6, 4, 10, 5, 6, 6, 5, 8, 5, 5, ...]\n",
       "\tlisa_clusters(): [0, 0, 0, 0, 1, 0, 0, 0, 0, 0, ...]\n",
       "\tlisa_labels(): ('Not significant', 'High-High', 'Low-Low', 'Low-High', 'High-Low', 'Undefined', 'Isolated')\n",
       "\tlisa_colors(): ('#eeeeee', '#FF0000', '#0000FF', '#a7adf9', '#f4ada8', '#464646', '#999999')"
      ]
     },
     "execution_count": 23,
     "metadata": {},
     "output_type": "execute_result"
    }
   ],
   "source": [
    "dfs_g = pygeoda.open(dfs)\n",
    "queen_w = pygeoda.queen_weights(dfs_g)\n",
    "lm = pygeoda.local_moran(queen_w, dfs_g['Comp.1'], permutations = 9999, seed = 1234567,\n",
    "                         significance_cutoff = 0.01)\n",
    "lm"
   ]
  },
  {
   "cell_type": "markdown",
   "id": "5205d7c7",
   "metadata": {},
   "source": [
    "Note that this listing is actually a bit misleading, since all methods except `lisa_pvalues()` return *tuples*, not *lists*. In practice, this doesn't matter much, since they are typically converted to numpy arrays or pandas series anyway."
   ]
  },
  {
   "cell_type": "markdown",
   "id": "aed0424b",
   "metadata": {},
   "source": [
    "In addition, there are two functions to obtain the Bonferroni bound p cut-off and the False Discovery Rate (FDR) p-value, respectively as `lm.lisa_bo(pvalue)` and `lm.lisa_fdr(pvalue)`, where p-value is typically 0.05. Note that smaller values may not yield a feasible cut-off given the maximum number of permutations. However, in contrast to what is the case for desktop `GeoDa`, the `pygeoda` implementation allows any value for the number of permutations. \n",
    "\n",
    "We illustrate this for a target p-value of 0.05."
   ]
  },
  {
   "cell_type": "code",
   "execution_count": 25,
   "id": "c0e15a87",
   "metadata": {},
   "outputs": [
    {
     "name": "stdout",
     "output_type": "stream",
     "text": [
      "Bonferroni bound:  0.000192\n",
      "FDR:  0.009962\n"
     ]
    }
   ],
   "source": [
    "print(\"Bonferroni bound: \",np.round(lm.lisa_bo(0.05),6))\n",
    "print(\"FDR: \",np.round(lm.lisa_fdr(0.05),6))"
   ]
  },
  {
   "cell_type": "markdown",
   "id": "479d6ed1",
   "metadata": {},
   "source": [
    "With the usual commands, we create a custom local cluster map using the `lisa_colors` and `lisa_labels`."
   ]
  },
  {
   "cell_type": "code",
   "execution_count": 26,
   "id": "cf631737",
   "metadata": {},
   "outputs": [
    {
     "data": {
      "image/png": "[encoded data removed]",
      "text/plain": [
       "<Figure size 800x800 with 1 Axes>"
      ]
     },
     "metadata": {},
     "output_type": "display_data"
    }
   ],
   "source": [
    "fig, ax = plt.subplots(figsize = (8,8))\n",
    "lisa_colors = lm.lisa_colors()\n",
    "lisa_labels = lm.lisa_labels()\n",
    "\n",
    "dfs['LISA'] = lm.lisa_clusters()\n",
    "\n",
    "for ctype, data in dfs.groupby('LISA'):\n",
    "    color = lisa_colors[ctype]\n",
    "    lbl = lisa_labels[ctype]\n",
    "    data.plot(color = color,\n",
    "        ax = ax,\n",
    "        label = lbl,\n",
    "        edgecolor = 'black',\n",
    "        linewidth = 0.2)\n",
    "\n",
    "# Place legend in the lower right hand corner of the plot\n",
    "lisa_legend = [pltlines.Line2D([0], [0], color=color, lw=2) for color in lisa_colors]\n",
    "ax.legend(lisa_legend, lisa_labels,loc='lower left', fontsize=10, frameon=True)\n",
    "ax.set(title='Local Moran Cluster Map of Component 1\\n Credit Risk & Funding Costs vs. Capital Adequacy')\n",
    "ax.set_axis_off()\n"
   ]
  }
 ],
 "metadata": {
  "kernelspec": {
   "display_name": "py312",
   "language": "python",
   "name": "python3"
  },
  "language_info": {
   "codemirror_mode": {
    "name": "ipython",
    "version": 3
   },
   "file_extension": ".py",
   "mimetype": "text/x-python",
   "name": "python",
   "nbconvert_exporter": "python",
   "pygments_lexer": "ipython3",
   "version": "3.12.4"
  }
 },
 "nbformat": 4,
 "nbformat_minor": 5
}
